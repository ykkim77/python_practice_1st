{
  "cells": [
    {
      "cell_type": "markdown",
      "metadata": {
        "colab_type": "text",
        "id": "view-in-github"
      },
      "source": [
        "<a href=\"https://colab.research.google.com/github/ykkim77/python-13th-week/blob/main/python_13th_week.ipynb\" target=\"_parent\"><img src=\"https://colab.research.google.com/assets/colab-badge.svg\" alt=\"Open In Colab\"/></a>"
      ]
    },
    {
      "cell_type": "markdown",
      "metadata": {},
      "source": [
        "<h1>Warming-up<h1>"
      ]
    },
    {
      "cell_type": "markdown",
      "metadata": {
        "id": "a7ioqZvYYiEw"
      },
      "source": [
        "참고: 초보자를 위한 파이썬 300제 <br> https://wikidocs.net/book/922"
      ]
    },
    {
      "cell_type": "markdown",
      "metadata": {
        "id": "_17Zhg4BXgzQ"
      },
      "source": [
        "# 변수 문자열"
      ]
    },
    {
      "cell_type": "markdown",
      "metadata": {
        "id": "Q_jsQatEZHj0"
      },
      "source": [
        "변수 a의 문자열에서 0번째와 10번째 문자를 출력하세요.\n",
        "\n",
        "\n",
        "\n",
        "```\n",
        "a = 'The Cyber University of Korea'\n",
        "```\n"
      ]
    },
    {
      "cell_type": "markdown",
      "metadata": {
        "id": "3KOQIqLRZaed"
      },
      "source": [
        "집 주소가 다음과 같을 때 뒤에 3자리만 출력하세요.\n",
        "\n",
        "address = \"종로구 북촌로 106\""
      ]
    },
    {
      "cell_type": "code",
      "execution_count": 22,
      "metadata": {
        "id": "lDjoQ5CQZcKM"
      },
      "outputs": [
        {
          "name": "stdout",
          "output_type": "stream",
          "text": [
            "106\n"
          ]
        }
      ],
      "source": [
        "# 문제 답안\n",
        "\n"
      ]
    },
    {
      "cell_type": "markdown",
      "metadata": {
        "id": "dXuDNaUuZh4b"
      },
      "source": [
        "다음 전화번호에서 하이푼을 제거하고 출력하세요.\n",
        "\n",
        "num = \"010-1234-5678\""
      ]
    },
    {
      "cell_type": "code",
      "execution_count": null,
      "metadata": {
        "id": "YsWi7rV8ZjVs"
      },
      "outputs": [],
      "source": [
        "## 문제 답안\n",
        "\n"
      ]
    },
    {
      "cell_type": "markdown",
      "metadata": {},
      "source": [
        "# 리스트"
      ]
    },
    {
      "cell_type": "markdown",
      "metadata": {
        "id": "YZ_qrHlAaH6m"
      },
      "source": [
        "슬라이싱을 활용해서 리스트의 앞 절반을 nums1 에다가 저장하고, 나머지 절반을 num2에 저장하시오.\n",
        "\n",
        "```\n",
        "nums = [3, 5, 7, 11, 16, 18, 32,64]\n",
        "\n",
        "```\n",
        "```\n",
        "\n"
      ]
    },
    {
      "cell_type": "code",
      "execution_count": 23,
      "metadata": {
        "id": "JkkmhmZUaKrz"
      },
      "outputs": [
        {
          "name": "stdout",
          "output_type": "stream",
          "text": [
            "[3, 5, 7, 11]\n",
            "[16, 18, 32, 64]\n"
          ]
        }
      ],
      "source": [
        "##  문제 답안\n"
      ]
    },
    {
      "cell_type": "markdown",
      "metadata": {
        "id": "bhVnp4hLbEhX"
      },
      "source": [
        "다음 리스트의 출력 결과를 예시와 같이 출력하세요.(join 메서드 활용)\n",
        "\n",
        "```\n",
        "rank = ['마케팅부', '경영관리부', '고객관리부', '생산부', '서비스부']\n",
        "```\n",
        "\n",
        "```\n",
        "출력 예시 : \n",
        "마케팅부/경영관리부/고객관리부/생산부/서비스부\n",
        "\n"
      ]
    },
    {
      "cell_type": "code",
      "execution_count": 27,
      "metadata": {
        "colab": {
          "base_uri": "https://localhost:8080/"
        },
        "id": "ERB9o_MpbPCt",
        "outputId": "38e26f52-3f39-4b0c-c6ed-dee0d06e495f"
      },
      "outputs": [
        {
          "name": "stdout",
          "output_type": "stream",
          "text": [
            "마케팅부/경영관리부/고객관리부/생산부/서비스부\n"
          ]
        }
      ],
      "source": [
        "## 문제 답안\n"
      ]
    },
    {
      "cell_type": "markdown",
      "metadata": {
        "id": "rgqzgCiZdain"
      },
      "source": [
        "다음 리스트에서 for문을 사용해서 문자의 첫글자를 대문자로 출력해보세요.\n",
        "\n",
        "```\n",
        "my_list = [\"hello\",\"world\",\"hi\",\"python\"]\n",
        "```\n"
      ]
    },
    {
      "cell_type": "code",
      "execution_count": 3,
      "metadata": {},
      "outputs": [
        {
          "name": "stdout",
          "output_type": "stream",
          "text": [
            "Hello\n",
            "World\n",
            "Hi\n",
            "Python\n"
          ]
        }
      ],
      "source": [
        "# 문제 답안\n",
        "\n",
        "my_list = [\"hello\",\"world\",\"hi\",\"python\"]\n",
        "\n",
        "\n",
        "    "
      ]
    },
    {
      "cell_type": "markdown",
      "metadata": {},
      "source": [
        "# 반복문"
      ]
    },
    {
      "cell_type": "markdown",
      "metadata": {},
      "source": [
        "2. range() 구문을 이용하여 sample_list를 아래와 같이 출력하라.\n",
        "\n",
        "```\n",
        "sample_list = [\"가\", \"나\", \"다\", \"라\"]\n",
        "```\n",
        "\n",
        "```\n",
        "가 나\n",
        "나 다\n",
        "다 라\n",
        "```"
      ]
    },
    {
      "cell_type": "code",
      "execution_count": 18,
      "metadata": {
        "id": "Tj1YnYVidlKE"
      },
      "outputs": [
        {
          "name": "stdout",
          "output_type": "stream",
          "text": [
            "가 나\n",
            "나 다\n",
            "다 라\n"
          ]
        }
      ],
      "source": [
        "## 문제 답안\n",
        "\n"
      ]
    },
    {
      "cell_type": "markdown",
      "metadata": {},
      "source": [
        "# 함수"
      ]
    },
    {
      "cell_type": "markdown",
      "metadata": {},
      "source": [
        "2개의 숫자를 파라미터로 전달받아\n",
        "전달 받은 숫자를 덧셈(addition), 뺄샘(subtraction), 곱셈(multiplication), 나눗셈(division)하여 리턴하는 함수를 각각 작성하라.\n",
        "\n",
        "단, 뺄셈, 나눗셈은 전달 인자의 순서대로 수행할 것,\n",
        "예) subtraction(a,b)   ---> a-b\n",
        "예) division(a,b)      ---> a/b    "
      ]
    },
    {
      "cell_type": "code",
      "execution_count": null,
      "metadata": {
        "id": "ta8mfh-ResdA"
      },
      "outputs": [],
      "source": [
        "# 문제 답안\n",
        "\n"
      ]
    },
    {
      "cell_type": "markdown",
      "metadata": {
        "id": "UAPJK1zAoXLx"
      },
      "source": [
        "하나의 리스트를 입력받아 홀수만 화면에 출력하는 print_even 함수를 정의하라.\n",
        "\n",
        "\n",
        "\n",
        "```\n",
        "print_even ([1, 3, 2, 10, 12, 11, 15])\n",
        "1\n",
        "3\n",
        "11\n",
        "15\n",
        "```\n",
        "\n"
      ]
    },
    {
      "cell_type": "code",
      "execution_count": null,
      "metadata": {
        "id": "LcM5XNOBoclT"
      },
      "outputs": [],
      "source": [
        "# 문제 답안\n",
        "\n"
      ]
    },
    {
      "cell_type": "markdown",
      "metadata": {},
      "source": [
        "# 클래스"
      ]
    },
    {
      "cell_type": "markdown",
      "metadata": {},
      "source": [
        "위에서 작성한 사칙 연산 함수를 메서드로 사용하는, Calc 클래스를 작성하라. \n",
        "\n",
        "단, 숫자 2개를 입력으로 받아 초기화하는 생성자를 포함하라."
      ]
    },
    {
      "cell_type": "code",
      "execution_count": null,
      "metadata": {},
      "outputs": [],
      "source": [
        "# 문제 답안\n",
        "\n"
      ]
    }
  ],
  "metadata": {
    "colab": {
      "authorship_tag": "ABX9TyNfYEYHL4wCNbBmxfR+rFfd",
      "collapsed_sections": [],
      "include_colab_link": true,
      "name": "python-13th-week.ipynb",
      "provenance": []
    },
    "kernelspec": {
      "display_name": "Python 3",
      "name": "python3"
    },
    "language_info": {
      "codemirror_mode": {
        "name": "ipython",
        "version": 3
      },
      "file_extension": ".py",
      "mimetype": "text/x-python",
      "name": "python",
      "nbconvert_exporter": "python",
      "pygments_lexer": "ipython3",
      "version": "3.9.4"
    }
  },
  "nbformat": 4,
  "nbformat_minor": 0
}
